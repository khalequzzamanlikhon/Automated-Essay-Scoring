{
  "cells": [
    {
      "cell_type": "code",
      "execution_count": 1,
      "metadata": {
        "colab": {
          "base_uri": "https://localhost:8080/"
        },
        "id": "0MEA8-hy1B6w",
        "outputId": "4db1bdd6-9d51-483a-8df3-611ed540be10"
      },
      "outputs": [
        {
          "name": "stdout",
          "output_type": "stream",
          "text": [
            "Drive already mounted at /content/drive; to attempt to forcibly remount, call drive.mount(\"/content/drive\", force_remount=True).\n"
          ]
        }
      ],
      "source": [
        "from google.colab import drive\n",
        "drive.mount('/content/drive')"
      ]
    },
    {
      "cell_type": "code",
      "execution_count": 2,
      "metadata": {
        "id": "f2ftIae2_gGW"
      },
      "outputs": [],
      "source": [
        "# ! pip install tensorflow keras keras-nlp\n"
      ]
    },
    {
      "cell_type": "code",
      "execution_count": 3,
      "metadata": {
        "id": "FpDPegc31B61"
      },
      "outputs": [],
      "source": [
        "import pandas as pd\n",
        "import numpy as np\n",
        "import tensorflow as tf\n",
        "import keras\n",
        "import keras_nlp\n",
        "from sklearn.model_selection import train_test_split\n",
        "from sklearn.metrics import cohen_kappa_score\n",
        "from tensorflow.keras.callbacks import EarlyStopping, ModelCheckpoint"
      ]
    },
    {
      "cell_type": "code",
      "execution_count": 4,
      "metadata": {
        "id": "D-3-7ica1B63"
      },
      "outputs": [],
      "source": [
        "# Load the datasets\n",
        "train_data = pd.read_csv('/content/drive/MyDrive/Automated_essay_scoring/data/train.csv')\n",
        "test_data = pd.read_csv('/content/drive/MyDrive/Automated_essay_scoring/data/test.csv')"
      ]
    },
    {
      "cell_type": "code",
      "execution_count": 5,
      "metadata": {
        "id": "QwPpAGKM1B63"
      },
      "outputs": [],
      "source": [
        "# Text Preprocessing function\n",
        "def preprocess_text(text):\n",
        "    text = text.lower()\n",
        "    text = tf.keras.preprocessing.text.text_to_word_sequence(text)\n",
        "    return ' '.join(text)\n",
        "\n",
        "train_data['full_text'] = train_data['full_text'].apply(preprocess_text)\n",
        "test_data['full_text'] = test_data['full_text'].apply(preprocess_text)"
      ]
    },
    {
      "cell_type": "code",
      "execution_count": 6,
      "metadata": {
        "id": "oc47WE_D1B64"
      },
      "outputs": [],
      "source": [
        "# Encode the scores\n",
        "train_labels = train_data['score'] - 1\n",
        "# Split the training data\n",
        "X_train, X_val, y_train, y_val = train_test_split(train_data['full_text'], train_labels, test_size=0.2, random_state=42)\n",
        "# Convert data to numpy arrays\n",
        "X_train = np.array(X_train.tolist())\n",
        "X_val = np.array(X_val.tolist())\n",
        "y_train = y_train.to_numpy()\n",
        "y_val = y_val.to_numpy()"
      ]
    },
    {
      "cell_type": "code",
      "execution_count": 7,
      "metadata": {
        "colab": {
          "base_uri": "https://localhost:8080/"
        },
        "id": "zu6p0tl51B64",
        "outputId": "e2a10e27-c38d-4e41-c159-c213a7d57f0f"
      },
      "outputs": [
        {
          "name": "stderr",
          "output_type": "stream",
          "text": [
            "Downloading from https://www.kaggle.com/api/v1/models/keras/bert/keras/bert_base_en/2/download/model.safetensors...\n",
            "Downloading from https://www.kaggle.com/api/v1/models/keras/bert/keras/bert_base_en/2/download/model.safetensors.index.json...\n",
            "Downloading from https://www.kaggle.com/api/v1/models/keras/bert/keras/bert_base_en/2/download/task.json...\n",
            "Downloading from https://www.kaggle.com/api/v1/models/keras/bert/keras/bert_base_en/2/download/model.safetensors...\n",
            "Downloading from https://www.kaggle.com/api/v1/models/keras/bert/keras/bert_base_en/2/download/model.safetensors.index.json...\n",
            "Downloading from https://www.kaggle.com/api/v1/models/keras/bert/keras/bert_base_en/2/download/model.safetensors...\n",
            "Downloading from https://www.kaggle.com/api/v1/models/keras/bert/keras/bert_base_en/2/download/model.safetensors.index.json...\n",
            "Downloading from https://www.kaggle.com/api/v1/models/keras/bert/keras/bert_base_en/2/download/preprocessor.json...\n"
          ]
        }
      ],
      "source": [
        "# Pretrained classifier with keras_nlp\n",
        "classifier = keras_nlp.models.BertClassifier.from_preset(\n",
        "    \"bert_base_en\",\n",
        "    num_classes=6,\n",
        ")\n",
        "# Compile the model\n",
        "classifier.compile(\n",
        "    loss=keras.losses.SparseCategoricalCrossentropy(from_logits=True),\n",
        "    optimizer=keras.optimizers.Adam(5e-5),\n",
        "    metrics=['accuracy'],\n",
        ")\n",
        "# early stopping and model checkpoint\n",
        "early_stopping = EarlyStopping(monitor='val_loss', patience=5, restore_best_weights=True)\n",
        "model_checkpoint = ModelCheckpoint('best_model_bert.keras', save_best_only=True, monitor='val_loss', mode='min')"
      ]
    },
    {
      "cell_type": "code",
      "execution_count": null,
      "metadata": {
        "colab": {
          "base_uri": "https://localhost:8080/"
        },
        "id": "wmTBAe_m1B65",
        "outputId": "b5825a44-90a0-4e03-87aa-8bc6c2256c99"
      },
      "outputs": [
        {
          "name": "stdout",
          "output_type": "stream",
          "text": [
            "Epoch 1/10\n"
          ]
        }
      ],
      "source": [
        "# Train the model\n",
        "history = classifier.fit(\n",
        "    x=X_train,\n",
        "    y=y_train,\n",
        "    validation_data=(X_val, y_val),\n",
        "    epochs=10,\n",
        "    batch_size=16,\n",
        "    callbacks=[early_stopping, model_checkpoint],\n",
        "    verbose=2\n",
        ")"
      ]
    },
    {
      "cell_type": "code",
      "execution_count": null,
      "metadata": {
        "id": "UnGbmWy-1B66"
      },
      "outputs": [],
      "source": [
        "# Load best model\n",
        "classifier.load_weights('best_model_bert.keras')\n",
        "# Predict on the validation data\n",
        "val_predictions = classifier.predict(x=X_val, batch_size=16).argmax(axis=-1) + 1\n",
        "# quadratic weighted kappa score\n",
        "kappa_score = cohen_kappa_score(y_val + 1, val_predictions, weights='quadratic')\n",
        "print(f'Validation Quadratic Weighted Kappa: {kappa_score}')\n",
        "# Predict on the test data\n",
        "test_predictions = classifier.predict(x=test_data['full_text'].tolist(), batch_size=16).argmax(axis=-1) + 1"
      ]
    },
    {
      "cell_type": "code",
      "execution_count": null,
      "metadata": {
        "execution": {
          "iopub.execute_input": "2024-07-02T10:36:01.739647Z",
          "iopub.status.busy": "2024-07-02T10:36:01.738717Z",
          "iopub.status.idle": "2024-07-02T10:36:45.082065Z",
          "shell.execute_reply": "2024-07-02T10:36:45.081055Z",
          "shell.execute_reply.started": "2024-07-02T10:36:01.739615Z"
        },
        "id": "209qSkuG1B66",
        "trusted": true
      },
      "outputs": [],
      "source": [
        "# saving result\n",
        "result = pd.DataFrame({'essay_id': test_data['essay_id'], 'score': test_predictions})\n",
        "result.head(10)"
      ]
    }
  ],
  "metadata": {
    "accelerator": "GPU",
    "colab": {
      "gpuType": "T4",
      "provenance": []
    },
    "kaggle": {
      "accelerator": "gpu",
      "dataSources": [
        {
          "databundleVersionId": 8059942,
          "sourceId": 71485,
          "sourceType": "competition"
        },
        {
          "modelInstanceId": 4679,
          "sourceId": 6058,
          "sourceType": "modelInstanceVersion"
        },
        {
          "modelInstanceId": 4684,
          "sourceId": 6063,
          "sourceType": "modelInstanceVersion"
        }
      ],
      "dockerImageVersionId": 30732,
      "isGpuEnabled": true,
      "isInternetEnabled": false,
      "language": "python",
      "sourceType": "notebook"
    },
    "kernelspec": {
      "display_name": "Python 3",
      "name": "python3"
    },
    "language_info": {
      "codemirror_mode": {
        "name": "ipython",
        "version": 3
      },
      "file_extension": ".py",
      "mimetype": "text/x-python",
      "name": "python",
      "nbconvert_exporter": "python",
      "pygments_lexer": "ipython3",
      "version": "3.11.3"
    }
  },
  "nbformat": 4,
  "nbformat_minor": 0
}
